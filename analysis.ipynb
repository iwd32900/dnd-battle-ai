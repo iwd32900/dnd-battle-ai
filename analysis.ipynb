{
 "cells": [
  {
   "cell_type": "code",
   "execution_count": null,
   "metadata": {},
   "outputs": [],
   "source": [
    "# Clean up old CSV files and re-run\n",
    "#!rm actions_*.csv; time python battle.py"
   ]
  },
  {
   "cell_type": "code",
   "execution_count": null,
   "metadata": {},
   "outputs": [],
   "source": [
    "from pathlib import Path\n",
    "import numpy as np\n",
    "import pandas as pd\n",
    "import matplotlib.pyplot as plt\n",
    "import plotnine as pn"
   ]
  },
  {
   "cell_type": "code",
   "execution_count": null,
   "metadata": {},
   "outputs": [],
   "source": [
    "def load(p):\n",
    "    df = pd.read_csv(p)\n",
    "    df['csv'] = str(p)\n",
    "    return df\n",
    "\n",
    "df = pd.concat([load(x) for x in Path().glob(\"actions_*.csv\") if x.stat().st_size > 1000], ignore_index=True)\n",
    "df.head()"
   ]
  },
  {
   "cell_type": "markdown",
   "metadata": {},
   "source": [
    "How long do battles typically last, as a function of epoch?"
   ]
  },
  {
   "cell_type": "code",
   "execution_count": null,
   "metadata": {},
   "outputs": [],
   "source": [
    "x = df.groupby(['epoch', 'encounter', 'csv'])['round'].max().groupby('epoch')\n",
    "y = x.quantile(0.1); plt.plot(y.index, y)\n",
    "y = x.quantile(0.5); plt.plot(y.index, y)\n",
    "y = x.quantile(0.9); plt.plot(y.index, y)"
   ]
  },
  {
   "cell_type": "markdown",
   "metadata": {},
   "source": [
    "How often do we choose each possible action, as a function of time?"
   ]
  },
  {
   "cell_type": "code",
   "execution_count": null,
   "metadata": {},
   "outputs": [],
   "source": [
    "pn.qplot('epoch', data=df, fill='action', geom='histogram', binwidth=1) + pn.facet_wrap('actor')"
   ]
  },
  {
   "cell_type": "markdown",
   "metadata": {},
   "source": [
    "Close-up from final epoch:"
   ]
  },
  {
   "cell_type": "code",
   "execution_count": null,
   "metadata": {},
   "outputs": [],
   "source": [
    "x = df[df.epoch == df.epoch.max()]\n",
    "pn.qplot('action', data=x, fill='action', geom='histogram', binwidth=1) + pn.facet_wrap('actor') + pn.theme(axis_text_x=pn.element_text(rotation=90))"
   ]
  },
  {
   "cell_type": "markdown",
   "metadata": {},
   "source": [
    "Do we use our healing potions more effectively as time goes on?"
   ]
  },
  {
   "cell_type": "code",
   "execution_count": null,
   "metadata": {},
   "outputs": [],
   "source": [
    "# Mean effect?\n",
    "x = df.query('raw_hp > 0').groupby('epoch')['obs_hp'].mean()\n",
    "plt.plot(x.index, x)\n",
    "# How often do we use it when we're uninjured?  Not often, it's forbidden.\n",
    "# x = df.query('raw_hp > 0 and obs_hp == 0').groupby('epoch').count()\n",
    "# plt.plot(x.index, x.obs_hp)"
   ]
  },
  {
   "cell_type": "markdown",
   "metadata": {},
   "source": [
    "Which enemy does each character attack?"
   ]
  },
  {
   "cell_type": "code",
   "execution_count": null,
   "metadata": {},
   "outputs": [],
   "source": [
    "x = df.query('raw_hp < 0')\n",
    "pn.qplot('epoch', data=x, fill='target', geom='histogram', binwidth=1) + pn.facet_wrap('actor')"
   ]
  },
  {
   "cell_type": "markdown",
   "metadata": {},
   "source": [
    "How often do we target the weakest enemy?"
   ]
  },
  {
   "cell_type": "code",
   "execution_count": null,
   "metadata": {},
   "outputs": [],
   "source": [
    "x = df.query('raw_hp < 0')\n",
    "pn.qplot('epoch', data=x, fill='t_weakest', geom='histogram', binwidth=1) + pn.facet_wrap('actor')"
   ]
  },
  {
   "cell_type": "markdown",
   "metadata": {},
   "source": [
    "How often do we switch targets within an encounter?"
   ]
  },
  {
   "cell_type": "code",
   "execution_count": null,
   "metadata": {},
   "outputs": [],
   "source": [
    "x = df.query('actor == \"Hero\" and action == \"long sword\"').copy()\n",
    "#x['round2'] = x.groupby(['epoch', 'encounter', 'csv'])['round'].rank().astype('int')\n",
    "# Convert target to numerical values\n",
    "x['tgt'] = pd.Categorical(x.target).codes\n",
    "# Detect changes in target\n",
    "x['change_tgt'] = (x.groupby(['epoch', 'encounter', 'csv'])['tgt'].diff() != 0)\n",
    "x.head()\n",
    "#dir(x.tgt.cat)"
   ]
  },
  {
   "cell_type": "code",
   "execution_count": null,
   "metadata": {},
   "outputs": [],
   "source": [
    "# Minimum is 2 (for a win):  initial attack, and switch to second target\n",
    "y = x.groupby('epoch')['change_tgt'].sum() / 1000\n",
    "plt.plot(y.index, y)"
   ]
  },
  {
   "cell_type": "markdown",
   "metadata": {},
   "source": [
    "Which enemy do we attack first?"
   ]
  },
  {
   "cell_type": "code",
   "execution_count": null,
   "metadata": {},
   "outputs": [],
   "source": [
    "y = x.query('round == 0').groupby('epoch')['tgt'].mean()\n",
    "plt.plot(y.index, y)"
   ]
  },
  {
   "cell_type": "code",
   "execution_count": null,
   "metadata": {},
   "outputs": [],
   "source": []
  }
 ],
 "metadata": {
  "kernelspec": {
   "display_name": "Python 3",
   "language": "python",
   "name": "python3"
  },
  "language_info": {
   "codemirror_mode": {
    "name": "ipython",
    "version": 3
   },
   "file_extension": ".py",
   "mimetype": "text/x-python",
   "name": "python",
   "nbconvert_exporter": "python",
   "pygments_lexer": "ipython3",
   "version": "3.8.3"
  }
 },
 "nbformat": 4,
 "nbformat_minor": 4
}
